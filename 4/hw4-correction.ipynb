{
 "cells": [
  {
   "cell_type": "markdown",
   "metadata": {},
   "source": [
    "作业四 文本纠错  \n",
    "任务描述：给出三个文件，词典库vocab.txt（任何不在词典中出现的词都认为是拼写错误），spell-errors.txt（给出正确单词与常见的拼写错误）与测试数据testdata.txt（1000个存在拼写错误的句子），利用bigram语言模型与Noisy Channel Model进行文本纠错训练。  \n",
    "步骤（每一步注释标注）：  \n",
    "一、读取词典库vocab.txt；  \n",
    "二、对于词库里没有的词，取编辑距离为1和2，生成候选词集合；  \n",
    "三、读取spell-errors.txt，计算概率p(错误的单词|正确的单词)；  \n",
    "四、选用nltk语料库movie_reviews，构建bigram语言模型；  \n",
    "五、读取testdata.txt，找出拼错词，生成候选词，并计算每个候选词的概率；  \n",
    "六、选出概率最高的候选词，作为修改词。  \n",
    "注：为便于计算，可采用似然对数，将概率乘积转化为求和。注意平滑。  \n",
    "输出：对每个句子，输出句子编号，拼错词，修改词（若没有则输出False），候选词列表及概率。最后输出总拼错词数。  \n",
    "例如：  \n",
    "第1句：  \n",
    "protectionst, protectionist  \n",
    "{'protectionist': -30.484951869432177}  \n",
    "第2句：  \n",
    "Tkyo's, False  \n",
    "第3句：  \n",
    "retaliation, retaliation  \n",
    "{'retaliation': -30.97301670912914}  \n",
    "Japan's, Japan  \n",
    "{'Japan': -30.748299246173307, 'Japanese': -30.748299246173307}  \n",
    "……  \n",
    "Total mistakes: 1351  \n"
   ]
  }
 ],
 "metadata": {
  "kernelspec": {
   "display_name": "Python 3",
   "language": "python",
   "name": "python3"
  },
  "language_info": {
   "codemirror_mode": {
    "name": "ipython",
    "version": 3
   },
   "file_extension": ".py",
   "mimetype": "text/x-python",
   "name": "python",
   "nbconvert_exporter": "python",
   "pygments_lexer": "ipython3",
   "version": "3.8.3"
  }
 },
 "nbformat": 4,
 "nbformat_minor": 4
}
